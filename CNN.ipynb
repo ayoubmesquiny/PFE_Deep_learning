{
 "cells": [
  {
   "cell_type": "code",
   "execution_count": 1,
   "metadata": {},
   "outputs": [],
   "source": [
    "import os\n",
    "import tensorflow as tf\n",
    "from tensorflow.keras.preprocessing.image import ImageDataGenerator\n",
    "from tensorflow.keras.models import Sequential\n",
    "from tensorflow.keras.layers import Conv2D, MaxPooling2D, Flatten, Dense, Dropout\n",
    "from tensorflow.keras.callbacks import EarlyStopping\n",
    "import matplotlib.pyplot as plt\n",
    "import shutil\n",
    "from sklearn.model_selection import train_test_split"
   ]
  },
  {
   "cell_type": "code",
   "execution_count": 2,
   "metadata": {},
   "outputs": [
    {
     "name": "stdout",
     "output_type": "stream",
     "text": [
      "2.11.0\n"
     ]
    }
   ],
   "source": [
    "print(tf.__version__)"
   ]
  },
  {
   "cell_type": "code",
   "execution_count": 3,
   "metadata": {},
   "outputs": [],
   "source": [
    "# Define the data directories and image dimensions\n",
    "img_width = 1280\n",
    "img_height = 720\n",
    "batch_size = 32"
   ]
  },
  {
   "cell_type": "code",
   "execution_count": 4,
   "metadata": {},
   "outputs": [
    {
     "name": "stdout",
     "output_type": "stream",
     "text": [
      "All folders names: ['fail', 'pass', 'test', 'train']\n"
     ]
    }
   ],
   "source": [
    "# Set the path to your data directory\n",
    "data_dir = \"C:/Users/DELL/Desktop/datatest/D-E\"\n",
    "\n",
    "# Get the list of all folders names\n",
    "image_files = os.listdir(data_dir)\n",
    "print(\"All folders names:\", image_files)"
   ]
  },
  {
   "cell_type": "code",
   "execution_count": 5,
   "metadata": {},
   "outputs": [
    {
     "name": "stdout",
     "output_type": "stream",
     "text": [
      "Pass images: ['C:/Users/DELL/Desktop/datatest/D-E\\\\pass\\\\20220729125601_EV4.JPG', 'C:/Users/DELL/Desktop/datatest/D-E\\\\pass\\\\20220729125729_EV4.JPG', 'C:/Users/DELL/Desktop/datatest/D-E\\\\pass\\\\20220729130429_EV4.JPG', 'C:/Users/DELL/Desktop/datatest/D-E\\\\pass\\\\20220729132658_EV4.JPG', 'C:/Users/DELL/Desktop/datatest/D-E\\\\pass\\\\20220729134822_EV4.JPG', 'C:/Users/DELL/Desktop/datatest/D-E\\\\pass\\\\20220729135350_EV4.JPG', 'C:/Users/DELL/Desktop/datatest/D-E\\\\pass\\\\20220802103153_EV4.JPG', 'C:/Users/DELL/Desktop/datatest/D-E\\\\pass\\\\20220804022405_EV4.JPG', 'C:/Users/DELL/Desktop/datatest/D-E\\\\pass\\\\20220804023155_EV4.JPG', 'C:/Users/DELL/Desktop/datatest/D-E\\\\pass\\\\20220806145639_EV4.JPG', 'C:/Users/DELL/Desktop/datatest/D-E\\\\pass\\\\20220806150932_EV4.JPG', 'C:/Users/DELL/Desktop/datatest/D-E\\\\pass\\\\20220806152519_EV4.JPG', 'C:/Users/DELL/Desktop/datatest/D-E\\\\pass\\\\20220806153433_EV4.JPG', 'C:/Users/DELL/Desktop/datatest/D-E\\\\pass\\\\20220807132349_EV4.JPG', 'C:/Users/DELL/Desktop/datatest/D-E\\\\pass\\\\20220807132946_EV4.JPG', 'C:/Users/DELL/Desktop/datatest/D-E\\\\pass\\\\20220807133327_EV4.JPG', 'C:/Users/DELL/Desktop/datatest/D-E\\\\pass\\\\20220807154911_EV4.JPG', 'C:/Users/DELL/Desktop/datatest/D-E\\\\pass\\\\20220807155103_EV4.JPG', 'C:/Users/DELL/Desktop/datatest/D-E\\\\pass\\\\20220807165732_EV4.JPG', 'C:/Users/DELL/Desktop/datatest/D-E\\\\pass\\\\20220807171228_EV4.JPG', 'C:/Users/DELL/Desktop/datatest/D-E\\\\pass\\\\20220807174714_EV4.JPG', 'C:/Users/DELL/Desktop/datatest/D-E\\\\pass\\\\20220809112218_EV4.JPG', 'C:/Users/DELL/Desktop/datatest/D-E\\\\pass\\\\20220809170824_EV4.JPG', 'C:/Users/DELL/Desktop/datatest/D-E\\\\pass\\\\20220809173822_EV4.JPG', 'C:/Users/DELL/Desktop/datatest/D-E\\\\pass\\\\20220809173955_EV4.JPG', 'C:/Users/DELL/Desktop/datatest/D-E\\\\pass\\\\20220810071722_EV4.JPG', 'C:/Users/DELL/Desktop/datatest/D-E\\\\pass\\\\20220810072135_EV4.JPG', 'C:/Users/DELL/Desktop/datatest/D-E\\\\pass\\\\20220810073347_EV4.JPG', 'C:/Users/DELL/Desktop/datatest/D-E\\\\pass\\\\20220810165733_EV4.JPG', 'C:/Users/DELL/Desktop/datatest/D-E\\\\pass\\\\20220810233318_EV4.JPG', 'C:/Users/DELL/Desktop/datatest/D-E\\\\pass\\\\20220811160415_EV4.JPG']\n"
     ]
    }
   ],
   "source": [
    "# Get the list of all pass image file names\n",
    "pass_dir = os.path.join(data_dir, \"pass\")\n",
    "pass_images = [os.path.join(pass_dir, file) for file in os.listdir(pass_dir)]\n",
    "\n",
    "# Print the lists of pass and fail image file names\n",
    "print(\"Pass images:\", pass_images)"
   ]
  },
  {
   "cell_type": "code",
   "execution_count": 6,
   "metadata": {},
   "outputs": [
    {
     "name": "stdout",
     "output_type": "stream",
     "text": [
      "Fail images: ['C:/Users/DELL/Desktop/datatest/D-E\\\\fail\\\\20220729111810_EV4.JPG', 'C:/Users/DELL/Desktop/datatest/D-E\\\\fail\\\\20220729125808_EV4.JPG', 'C:/Users/DELL/Desktop/datatest/D-E\\\\fail\\\\20220729130447_EV4.JPG', 'C:/Users/DELL/Desktop/datatest/D-E\\\\fail\\\\20220729130716_EV4.JPG', 'C:/Users/DELL/Desktop/datatest/D-E\\\\fail\\\\20220729131136_EV4.JPG', 'C:/Users/DELL/Desktop/datatest/D-E\\\\fail\\\\20220729131248_EV4.JPG', 'C:/Users/DELL/Desktop/datatest/D-E\\\\fail\\\\20220729131458_EV4.JPG', 'C:/Users/DELL/Desktop/datatest/D-E\\\\fail\\\\20220729133003_EV4.JPG', 'C:/Users/DELL/Desktop/datatest/D-E\\\\fail\\\\20220729134805_EV4.JPG', 'C:/Users/DELL/Desktop/datatest/D-E\\\\fail\\\\20220729135334_EV4.JPG', 'C:/Users/DELL/Desktop/datatest/D-E\\\\fail\\\\20220802103136_EV4.JPG', 'C:/Users/DELL/Desktop/datatest/D-E\\\\fail\\\\20220803103812_EV4.JPG', 'C:/Users/DELL/Desktop/datatest/D-E\\\\fail\\\\20220803104053_EV4.JPG', 'C:/Users/DELL/Desktop/datatest/D-E\\\\fail\\\\20220804022024_EV4.JPG', 'C:/Users/DELL/Desktop/datatest/D-E\\\\fail\\\\20220804022330_EV4.JPG', 'C:/Users/DELL/Desktop/datatest/D-E\\\\fail\\\\20220804022344_EV4.JPG', 'C:/Users/DELL/Desktop/datatest/D-E\\\\fail\\\\20220804023114_EV4.JPG', 'C:/Users/DELL/Desktop/datatest/D-E\\\\fail\\\\20220806145129_EV4.JPG', 'C:/Users/DELL/Desktop/datatest/D-E\\\\fail\\\\20220806145154_EV4.JPG', 'C:/Users/DELL/Desktop/datatest/D-E\\\\fail\\\\20220806145210_EV4.JPG', 'C:/Users/DELL/Desktop/datatest/D-E\\\\fail\\\\20220806145233_EV4.JPG', 'C:/Users/DELL/Desktop/datatest/D-E\\\\fail\\\\20220806145308_EV4.JPG', 'C:/Users/DELL/Desktop/datatest/D-E\\\\fail\\\\20220806145627_EV4.JPG', 'C:/Users/DELL/Desktop/datatest/D-E\\\\fail\\\\20220806150917_EV4.JPG', 'C:/Users/DELL/Desktop/datatest/D-E\\\\fail\\\\20220806153420_EV4.JPG', 'C:/Users/DELL/Desktop/datatest/D-E\\\\fail\\\\20220807132251_EV4.JPG', 'C:/Users/DELL/Desktop/datatest/D-E\\\\fail\\\\20220807132344_EV4.JPG', 'C:/Users/DELL/Desktop/datatest/D-E\\\\fail\\\\20220807132939_EV4.JPG', 'C:/Users/DELL/Desktop/datatest/D-E\\\\fail\\\\20220807154859_EV4.JPG', 'C:/Users/DELL/Desktop/datatest/D-E\\\\fail\\\\20220807165718_EV4.JPG', 'C:/Users/DELL/Desktop/datatest/D-E\\\\fail\\\\20220809111447_EV4.JPG']\n"
     ]
    }
   ],
   "source": [
    "# Get the list of all fail image file names\n",
    "fail_dir = os.path.join(data_dir, \"fail\")\n",
    "fail_images = [os.path.join(fail_dir, file) for file in os.listdir(fail_dir)]\n",
    "\n",
    "# Print the lists of pass and fail image file names\n",
    "print(\"Fail images:\", fail_images)"
   ]
  },
  {
   "cell_type": "code",
   "execution_count": 7,
   "metadata": {},
   "outputs": [],
   "source": [
    "# Split the data into train and test sets (70% train, 30% test)\n",
    "pass_train, pass_test = train_test_split(pass_images, test_size=0.3, random_state=42)\n",
    "fail_train, fail_test = train_test_split(fail_images, test_size=0.3, random_state=42)\n",
    "\n",
    "# Create the train and test directories\n",
    "train_dir = os.path.join(data_dir, \"train\")\n",
    "test_dir = os.path.join(data_dir, \"test\")\n",
    "os.makedirs(os.path.join(train_dir, \"pass\"), exist_ok=True)\n",
    "os.makedirs(os.path.join(train_dir, \"fail\"), exist_ok=True)\n",
    "os.makedirs(os.path.join(test_dir, \"pass\"), exist_ok=True)\n",
    "os.makedirs(os.path.join(test_dir, \"fail\"), exist_ok=True)\n",
    "\n",
    "# Copy the pass images to the train and test directories\n",
    "for file in pass_train:\n",
    "    dest_file = os.path.join(train_dir, \"pass\", os.path.basename(file))\n",
    "    if not os.path.exists(dest_file):\n",
    "        shutil.copy(file, dest_file)\n",
    "for file in pass_test:\n",
    "    dest_file = os.path.join(test_dir, \"pass\", os.path.basename(file))\n",
    "    if not os.path.exists(dest_file):\n",
    "        shutil.copy(file, dest_file)\n",
    "\n",
    "# Copy the fail images to the train and test directories\n",
    "for file in fail_train:\n",
    "    dest_file = os.path.join(train_dir, \"fail\", os.path.basename(file))\n",
    "    if not os.path.exists(dest_file):\n",
    "        shutil.copy(file, dest_file)\n",
    "for file in fail_test:\n",
    "    dest_file = os.path.join(test_dir, \"fail\", os.path.basename(file))\n",
    "    if not os.path.exists(dest_file):\n",
    "        shutil.copy(file, dest_file)"
   ]
  },
  {
   "cell_type": "code",
   "execution_count": 8,
   "metadata": {},
   "outputs": [],
   "source": [
    "# Define the CNN architecture\n",
    "model = Sequential()\n",
    "model.add(Conv2D(32, (3, 3), activation='relu', input_shape=(img_width, img_height, 3)))\n",
    "model.add(MaxPooling2D((2, 2)))\n",
    "model.add(Conv2D(64, (3, 3), activation='relu'))\n",
    "model.add(MaxPooling2D((2, 2)))\n",
    "model.add(Conv2D(128, (3, 3), activation='relu'))\n",
    "model.add(MaxPooling2D((2, 2)))\n",
    "model.add(Conv2D(256, (3, 3), activation='relu'))\n",
    "model.add(MaxPooling2D((2, 2)))\n",
    "model.add(Dropout(0.25))  # Add Dropout layer after last Convolutional layer\n",
    "model.add(Flatten())\n",
    "model.add(Dense(512, activation='relu'))\n",
    "model.add(Dropout(0.5))\n",
    "model.add(Dense(1, activation='sigmoid'))"
   ]
  },
  {
   "cell_type": "code",
   "execution_count": 9,
   "metadata": {},
   "outputs": [],
   "source": [
    "# Compile the model\n",
    "model.compile(loss='binary_crossentropy', optimizer='adam', metrics=['accuracy'])"
   ]
  },
  {
   "cell_type": "code",
   "execution_count": 10,
   "metadata": {},
   "outputs": [],
   "source": [
    "# Define the data generators for image augmentation and rescaling\n",
    "train_datagen = ImageDataGenerator(\n",
    "    rescale=1./255, \n",
    "    shear_range=0.2, \n",
    "    zoom_range=0.2, \n",
    "    horizontal_flip=True\n",
    ")\n",
    "test_datagen = ImageDataGenerator(rescale=1./255)"
   ]
  },
  {
   "cell_type": "code",
   "execution_count": 11,
   "metadata": {},
   "outputs": [
    {
     "name": "stdout",
     "output_type": "stream",
     "text": [
      "Found 42 images belonging to 2 classes.\n",
      "Found 20 images belonging to 2 classes.\n"
     ]
    }
   ],
   "source": [
    "# Load the training and testing data\n",
    "train_data = train_datagen.flow_from_directory(\n",
    "    train_dir,\n",
    "    target_size=(img_width, img_height),\n",
    "    batch_size=batch_size,\n",
    "    class_mode=\"binary\"\n",
    ")\n",
    "test_data = test_datagen.flow_from_directory(\n",
    "    test_dir,\n",
    "    target_size=(img_width, img_height),\n",
    "    batch_size=batch_size,\n",
    "    class_mode=\"binary\"\n",
    ")"
   ]
  },
  {
   "cell_type": "code",
   "execution_count": 12,
   "metadata": {},
   "outputs": [],
   "source": [
    "# Define early stopping callback\n",
    "early_stop = EarlyStopping(monitor='val_loss', patience=3)"
   ]
  },
  {
   "cell_type": "code",
   "execution_count": 13,
   "metadata": {},
   "outputs": [
    {
     "name": "stdout",
     "output_type": "stream",
     "text": [
      "Epoch 1/10\n"
     ]
    },
    {
     "ename": "",
     "evalue": "",
     "output_type": "error",
     "traceback": [
      "\u001b[1;31mCanceled future for execute_request message before replies were done"
     ]
    },
    {
     "ename": "",
     "evalue": "",
     "output_type": "error",
     "traceback": [
      "\u001b[1;31mThe Kernel crashed while executing code in the the current cell or a previous cell. Please review the code in the cell(s) to identify a possible cause of the failure. Click <a href='https://aka.ms/vscodeJupyterKernelCrash'>here</a> for more info. View Jupyter <a href='command:jupyter.viewOutput'>log</a> for further details."
     ]
    }
   ],
   "source": [
    "# Train the model\n",
    "history = model.fit(train_data, epochs=10, validation_data=test_data,callbacks=[early_stop])"
   ]
  },
  {
   "cell_type": "code",
   "execution_count": null,
   "metadata": {},
   "outputs": [],
   "source": [
    "# Plot training & validation accuracy values\n",
    "plt.plot(history.history['accuracy'])\n",
    "plt.plot(history.history['val_accuracy'])\n",
    "plt.title('Model accuracy')\n",
    "plt.ylabel('Accuracy')\n",
    "plt.xlabel('Epoch')\n",
    "plt.legend(['Train', 'Validation'], loc='upper left')\n",
    "plt.show()"
   ]
  },
  {
   "cell_type": "code",
   "execution_count": null,
   "metadata": {},
   "outputs": [],
   "source": [
    "# Plot training & validation loss values\n",
    "plt.plot(history.history['loss'])\n",
    "plt.plot(history.history['val_loss'])\n",
    "plt.title('Model loss')\n",
    "plt.ylabel('Loss')\n",
    "plt.xlabel('Epoch')\n",
    "plt.legend(['Train', 'Validation'], loc='upper left')\n",
    "plt.show()"
   ]
  },
  {
   "cell_type": "code",
   "execution_count": null,
   "metadata": {},
   "outputs": [],
   "source": [
    "# Save the trained model\n",
    "model.save('my_model.h5')"
   ]
  },
  {
   "cell_type": "code",
   "execution_count": null,
   "metadata": {},
   "outputs": [],
   "source": []
  }
 ],
 "metadata": {
  "kernelspec": {
   "display_name": "Python 3",
   "language": "python",
   "name": "python3"
  },
  "language_info": {
   "codemirror_mode": {
    "name": "ipython",
    "version": 3
   },
   "file_extension": ".py",
   "mimetype": "text/x-python",
   "name": "python",
   "nbconvert_exporter": "python",
   "pygments_lexer": "ipython3",
   "version": "3.10.9"
  },
  "orig_nbformat": 4,
  "vscode": {
   "interpreter": {
    "hash": "fbc768028c3e6ead51d9a200ddcb2ec858ae62844dcd1994729a8279be9b48f2"
   }
  }
 },
 "nbformat": 4,
 "nbformat_minor": 2
}
