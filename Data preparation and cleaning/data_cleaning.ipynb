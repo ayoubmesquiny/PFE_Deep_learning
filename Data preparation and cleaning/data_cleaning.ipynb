{
 "cells": [
  {
   "attachments": {},
   "cell_type": "markdown",
   "metadata": {},
   "source": [
    "## Importing libraries necessary"
   ]
  },
  {
   "cell_type": "code",
   "execution_count": 1,
   "metadata": {},
   "outputs": [],
   "source": [
    "import os\n",
    "from concurrent.futures import ThreadPoolExecutor\n",
    "import humanize\n",
    "from multiprocessing import Pool\n",
    "from PIL import Image\n",
    "import concurrent.futures\n",
    "import shutil"
   ]
  },
  {
   "cell_type": "code",
   "execution_count": 2,
   "metadata": {},
   "outputs": [],
   "source": [
    "Data_directory_1 = \"D:/L460\"\n",
    "Data_directory_2 = \"D:/L461\"\n",
    "Data_directory_3 = \"D:/dataset\""
   ]
  },
  {
   "cell_type": "code",
   "execution_count": 3,
   "metadata": {},
   "outputs": [],
   "source": [
    "def delete_file(file):\n",
    "    try:\n",
    "        os.remove(file)\n",
    "    except Exception as e:\n",
    "        print(f\"Error deleting file {file}: {e}\")"
   ]
  },
  {
   "attachments": {},
   "cell_type": "markdown",
   "metadata": {},
   "source": [
    "## Deleting XML files :"
   ]
  },
  {
   "cell_type": "code",
   "execution_count": null,
   "metadata": {},
   "outputs": [],
   "source": [
    "def delete_xml_files(directory, max_threads=10):\n",
    "    # Recursively search for all .xml files in the specified directory and its subdirectories\n",
    "    xml_files = []\n",
    "    for root, dirs, files in os.walk(directory):\n",
    "        for file in files:\n",
    "            if file.lower().endswith(\".xml\"):\n",
    "                xml_files.append(os.path.join(root, file))\n",
    "\n",
    "    # Use a thread pool to delete the files with a maximum number of threads\n",
    "    with ThreadPoolExecutor(max_workers=max_threads) as executor:\n",
    "        for file in xml_files:\n",
    "            executor.submit(delete_file, file)\n",
    "\n",
    "    print(f\"All {len(xml_files)} .xml files have been deleted from {directory} and its subdirectories.\")\n",
    "    # Recursively delete files in subdirectories\n",
    "    for root, dirs, files in os.walk(directory):\n",
    "        for dir in dirs:\n",
    "            delete_xml_files(os.path.join(root, dir), max_threads)"
   ]
  },
  {
   "attachments": {},
   "cell_type": "markdown",
   "metadata": {},
   "source": [
    "## Deleting unwanted images :"
   ]
  },
  {
   "cell_type": "code",
   "execution_count": null,
   "metadata": {},
   "outputs": [],
   "source": [
    "def delete_unwanted_images(directory, max_threads=10):\n",
    "    # Recursively search for all non-xml files in the specified directory and its subdirectories\n",
    "    view_files = []\n",
    "    stats_files = []\n",
    "    for root, dirs, files in os.walk(directory):\n",
    "        for file in files:\n",
    "            if \"VIEW-1_DIFFUSE.JPG\" in file:\n",
    "                view_files.append(os.path.join(root, file))\n",
    "            elif \"STATS.JPG\" in file:\n",
    "                stats_files.append(os.path.join(root, file))\n",
    "\n",
    "    # Use a thread pool to delete the files with a maximum number of threads\n",
    "    with ThreadPoolExecutor(max_workers=max_threads) as executor:\n",
    "        for file in view_files:\n",
    "            executor.submit(delete_file, file)\n",
    "        for file in stats_files:\n",
    "            executor.submit(delete_file,file)\n",
    "\n",
    "    print(f\"All {len(view_files)} files containing 'VIEW-1_DIFFUSE.JPG' and {len(stats_files)} files containing 'STATS.JPG' in their name have been deleted from {directory} and its subdirectories.\")\n",
    "    \n",
    "    # Recursively delete files in subdirectories\n",
    "    for root, dirs, files in os.walk(directory):\n",
    "        for dir in dirs:\n",
    "            delete_unwanted_images(os.path.join(root, dir), max_threads)"
   ]
  },
  {
   "attachments": {},
   "cell_type": "markdown",
   "metadata": {},
   "source": [
    "## Number of images :"
   ]
  },
  {
   "cell_type": "code",
   "execution_count": 4,
   "metadata": {},
   "outputs": [],
   "source": [
    "def get_file_paths(directory):\n",
    "    for root, dirs, files in os.walk(directory):\n",
    "        for file in files:\n",
    "            if file.endswith(\".JPG\"):\n",
    "                yield os.path.join(root, file)\n",
    "\n",
    "def calculate_stats(directory):\n",
    "    images_count = 0\n",
    "    total_size = 0\n",
    "\n",
    "    # Use a generator to avoid loading all file paths into memory at once\n",
    "    file_paths = get_file_paths(directory)\n",
    "\n",
    "    # Use multiprocessing to parallelize the calculation of file sizes\n",
    "    with Pool() as pool:\n",
    "        sizes = pool.map(os.path.getsize, file_paths)\n",
    "        total_size = sum(sizes)\n",
    "        images_count = len(sizes)\n",
    "\n",
    "    # Use humanize to format the total size in a human-readable format\n",
    "    total_size_humanized = humanize.naturalsize(total_size, binary=True)\n",
    "\n",
    "    print(f\"Number of images: {images_count}\")\n",
    "    print(f\"Total size of directory {directory}: {total_size_humanized}\")"
   ]
  },
  {
   "attachments": {},
   "cell_type": "markdown",
   "metadata": {},
   "source": [
    "## Cheking if the size of the images and their count :"
   ]
  },
  {
   "cell_type": "code",
   "execution_count": 5,
   "metadata": {},
   "outputs": [],
   "source": [
    "def count_images_by_size(directory):\n",
    "    sizes = {}\n",
    "    image_paths = []\n",
    "\n",
    "    for root, dirs, files in os.walk(directory):\n",
    "        for file in files:\n",
    "            if file.lower().endswith(\".jpg\"):\n",
    "                image_paths.append(os.path.join(root, file))\n",
    "\n",
    "    def get_image_size(path):\n",
    "        with Image.open(path) as img:\n",
    "            return img.size\n",
    "\n",
    "    with ThreadPoolExecutor() as executor:\n",
    "        future_to_path = {executor.submit(get_image_size, path): path for path in image_paths}\n",
    "        for future in concurrent.futures.as_completed(future_to_path):\n",
    "            path = future_to_path[future]\n",
    "            try:\n",
    "                size = future.result()\n",
    "                if size not in sizes:\n",
    "                    sizes[size] = 0\n",
    "                sizes[size] += 1\n",
    "            except Exception as e:\n",
    "                print(f\"Error getting size for image {path}: {e}\")\n",
    "\n",
    "    for size, count in sizes.items():\n",
    "        print(f\"{count} images in {directory} have size {size}\")"
   ]
  },
  {
   "attachments": {},
   "cell_type": "markdown",
   "metadata": {},
   "source": [
    "## Copying files from source to destination"
   ]
  },
  {
   "cell_type": "code",
   "execution_count": null,
   "metadata": {},
   "outputs": [],
   "source": [
    "def copy_files(src_dir, dst_dir):\n",
    "    # create destination directory if it doesn't exist\n",
    "    os.makedirs(dst_dir, exist_ok=True)\n",
    "    \n",
    "    # get a list of files to copy\n",
    "    file_list = []\n",
    "    for root, dirs, files in os.walk(src_dir):\n",
    "        for file in files:\n",
    "            file_list.append(os.path.join(root, file))\n",
    "    \n",
    "    # define a function to copy a single file\n",
    "    def copy_file(file_path):\n",
    "        try:\n",
    "            shutil.copy(file_path, dst_dir)\n",
    "        except Exception as e:\n",
    "            print(f\"Error copying {file_path}: {e}\")\n",
    "    \n",
    "    # use ThreadPoolExecutor to copy files in parallel\n",
    "    with ThreadPoolExecutor() as executor:\n",
    "        futures = []\n",
    "        for file_path in file_list:\n",
    "            futures.append(executor.submit(copy_file, file_path))\n",
    "        \n",
    "        # wait for all the copies to finish\n",
    "        for future in futures:\n",
    "            future.result()\n",
    "    \n",
    "    print(f\"Finished copying files from {src_dir} to {dst_dir}\")\n"
   ]
  },
  {
   "attachments": {},
   "cell_type": "markdown",
   "metadata": {},
   "source": [
    "## Applying :"
   ]
  },
  {
   "cell_type": "code",
   "execution_count": null,
   "metadata": {},
   "outputs": [],
   "source": []
  }
 ],
 "metadata": {
  "kernelspec": {
   "display_name": "Python 3",
   "language": "python",
   "name": "python3"
  },
  "language_info": {
   "codemirror_mode": {
    "name": "ipython",
    "version": 3
   },
   "file_extension": ".py",
   "mimetype": "text/x-python",
   "name": "python",
   "nbconvert_exporter": "python",
   "pygments_lexer": "ipython3",
   "version": "3.10.9"
  },
  "orig_nbformat": 4,
  "vscode": {
   "interpreter": {
    "hash": "fbc768028c3e6ead51d9a200ddcb2ec858ae62844dcd1994729a8279be9b48f2"
   }
  }
 },
 "nbformat": 4,
 "nbformat_minor": 2
}
