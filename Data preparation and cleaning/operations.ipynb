{
 "cells": [
  {
   "cell_type": "code",
   "execution_count": null,
   "metadata": {},
   "outputs": [],
   "source": [
    "import os\n",
    "import glob\n",
    "import threading\n",
    "from concurrent.futures import ThreadPoolExecutor\n",
    "from pathlib import Path"
   ]
  },
  {
   "cell_type": "code",
   "execution_count": null,
   "metadata": {},
   "outputs": [],
   "source": [
    "def delete_xml_files_1(directory):\n",
    "    # Get a list of all .xml files in the specified directory\n",
    "    xml_files = glob.glob(os.path.join(directory, \"*.xml\"))\n",
    "\n",
    "    # Loop through the list and delete each file\n",
    "    for file in xml_files:\n",
    "        os.remove(file)\n",
    "\n",
    "    print(f\"All {len(xml_files)} .xml files have been deleted from {directory}.\")"
   ]
  },
  {
   "cell_type": "code",
   "execution_count": null,
   "metadata": {},
   "outputs": [],
   "source": [
    "def delete_xml_files_2(directory):\n",
    "    # Get a list of all .xml files in the specified directory\n",
    "    xml_files = glob.glob(os.path.join(directory, \"*.xml\"))\n",
    "\n",
    "    # Define a function to delete a file\n",
    "    def delete_file(file):\n",
    "        os.remove(file)\n",
    "\n",
    "    # Create a list of threads, each one responsible for deleting a file\n",
    "    threads = []\n",
    "    for file in xml_files:\n",
    "        thread = threading.Thread(target=delete_file, args=(file,))\n",
    "        thread.start()\n",
    "        threads.append(thread)\n",
    "\n",
    "    # Wait for all threads to complete\n",
    "    for thread in threads:\n",
    "        thread.join()\n",
    "\n",
    "    print(f\"All {len(xml_files)} .xml files have been deleted from {directory}.\")"
   ]
  },
  {
   "cell_type": "code",
   "execution_count": null,
   "metadata": {},
   "outputs": [],
   "source": [
    "def delete_xml_files_3(directory, max_threads=10):\n",
    "    # Get a list of all .xml files in the specified directory\n",
    "    xml_files = glob.glob(os.path.join(directory, \"*.xml\"))\n",
    "\n",
    "    # Define a function to delete a file\n",
    "    def delete_file(file):\n",
    "        try:\n",
    "            os.remove(file)\n",
    "        except Exception as e:\n",
    "            print(f\"Error deleting file {file}: {e}\")\n",
    "\n",
    "    # Use a thread pool to delete the files with a maximum number of threads\n",
    "    with ThreadPoolExecutor(max_workers=max_threads) as executor:\n",
    "        for file in xml_files:\n",
    "            executor.submit(delete_file, file)\n",
    "\n",
    "    print(f\"All {len(xml_files)} .xml files have been deleted from {directory}.\")"
   ]
  },
  {
   "cell_type": "code",
   "execution_count": null,
   "metadata": {},
   "outputs": [],
   "source": [
    "def delete_xml_files_4(directory, max_threads=10):\n",
    "    # Get a list of all .xml files in the specified directory using pathlib.Path and os.scandir\n",
    "    xml_files = [file.path for file in Path(directory).glob(\"*.xml\")]\n",
    "\n",
    "    # Define a function to delete a file\n",
    "    def delete_file(file):\n",
    "        try:\n",
    "            Path(file).unlink()\n",
    "        except Exception as e:\n",
    "            print(f\"Error deleting file {file}: {e}\")\n",
    "\n",
    "    # Use a thread pool to delete the files with a maximum number of threads\n",
    "    with ThreadPoolExecutor(max_workers=max_threads) as executor:\n",
    "        for file in xml_files:\n",
    "            executor.submit(delete_file, file)\n",
    "\n",
    "    print(f\"All {len(xml_files)} .xml files have been deleted from {directory}.\")"
   ]
  },
  {
   "cell_type": "code",
   "execution_count": null,
   "metadata": {},
   "outputs": [],
   "source": [
    "def delete_file(file):\n",
    "    try:\n",
    "        os.remove(file)\n",
    "    except Exception as e:\n",
    "        print(f\"Error deleting file {file}: {e}\")\n",
    "\n",
    "def delete_xml_files(directory, max_threads=10):\n",
    "    # Recursively search for all .xml files in the specified directory and its subdirectories\n",
    "    xml_files = []\n",
    "    for root, dirs, files in os.walk(directory):\n",
    "        for file in files:\n",
    "            if file.endswith(\".xml\"):\n",
    "                xml_files.append(os.path.join(root, file))\n",
    "\n",
    "    # Use a thread pool to delete the files with a maximum number of threads\n",
    "    with ThreadPoolExecutor(max_workers=max_threads) as executor:\n",
    "        for file in xml_files:\n",
    "            executor.submit(delete_file, file)\n",
    "\n",
    "    print(f\"All {len(xml_files)} .xml files have been deleted from {directory} and its subdirectories.\")\n",
    "    # Recursively delete files in subdirectories\n",
    "    for root, dirs, files in os.walk(directory):\n",
    "        for dir in dirs:\n",
    "            delete_xml_files(os.path.join(root, dir), max_threads)"
   ]
  },
  {
   "cell_type": "code",
   "execution_count": null,
   "metadata": {},
   "outputs": [],
   "source": [
    "def delete_file(file):\n",
    "    try:\n",
    "        os.remove(file)\n",
    "    except Exception as e:\n",
    "        print(f\"Error deleting file {file}: {e}\")\n",
    "\n",
    "def delete_view_files(directory, max_threads=10):\n",
    "    # Recursively search for all files in the specified directory and its subdirectories\n",
    "    view_files = []\n",
    "    for root, dirs, files in os.walk(directory):\n",
    "        for file in files:\n",
    "            if \"VIEW-1_DIFFUSE.JPG\" in file:\n",
    "                view_files.append(os.path.join(root, file))\n",
    "\n",
    "    # Use a thread pool to delete the files with a maximum number of threads\n",
    "    with ThreadPoolExecutor(max_workers=max_threads) as executor:\n",
    "        for file in view_files:\n",
    "            executor.submit(delete_file, file)\n",
    "\n",
    "    print(f\"All {len(view_files)} files containing 'VIEW-1_DIFFUSE.JPG' in their name have been deleted from {directory} and its subdirectories.\")\n",
    "    # Recursively delete files in subdirectories\n",
    "    for root, dirs, files in os.walk(directory):\n",
    "        for dir in dirs:\n",
    "            delete_view_files(os.path.join(root, dir), max_threads)"
   ]
  },
  {
   "cell_type": "code",
   "execution_count": null,
   "metadata": {},
   "outputs": [],
   "source": [
    "def delete_file(file):\n",
    "    try:\n",
    "        os.remove(file)\n",
    "    except Exception as e:\n",
    "        print(f\"Error deleting file {file}: {e}\")\n",
    "\n",
    "def delete_files(directory, max_threads=10):\n",
    "    # Recursively search for all files in the specified directory and its subdirectories\n",
    "    xml_files = []\n",
    "    view_files = []\n",
    "    stats_files = []\n",
    "    for root, dirs, files in os.walk(directory):\n",
    "        for file in files:\n",
    "            if file.endswith(\".xml\"):\n",
    "                xml_files.append(os.path.join(root, file))\n",
    "            elif \"VIEW-1_DIFFUSE.JPG\" in file:\n",
    "                view_files.append(os.path.join(root, file))\n",
    "            elif \"STATS.JPG\" in file:\n",
    "                stats_files.append(os.path.join(root, file))\n",
    "\n",
    "    # Use a thread pool to delete the files with a maximum number of threads\n",
    "    with ThreadPoolExecutor(max_workers=max_threads) as executor:\n",
    "        for file in xml_files:\n",
    "            executor.submit(delete_file, file)\n",
    "        for file in view_files:\n",
    "            executor.submit(delete_file, file)\n",
    "        for file in stats_files:\n",
    "            executor.submit(delete_file,file)\n",
    "\n",
    "    print(f\"All {len(xml_files)} .xml files and {len(view_files)} files containing 'VIEW-1_DIFFUSE.JPG' and {len(stats_files)} files containing 'STATS.JPG' in their name have been deleted from {directory} and its subdirectories.\")\n",
    "    # Recursively delete files in subdirectories\n",
    "    for root, dirs, files in os.walk(directory):\n",
    "        for dir in dirs:\n",
    "            delete_files(os.path.join(root, dir), max_threads)"
   ]
  },
  {
   "cell_type": "code",
   "execution_count": null,
   "metadata": {},
   "outputs": [],
   "source": [
    "delete_view_files(\"D:/dataset_1\", max_threads=5)"
   ]
  },
  {
   "cell_type": "code",
   "execution_count": null,
   "metadata": {},
   "outputs": [],
   "source": [
    "import shutil\n",
    "\n",
    "def copy_files(source_dir, dest_dir):\n",
    "    # Create the destination directory if it doesn't exist\n",
    "    if not os.path.exists(dest_dir):\n",
    "        os.makedirs(dest_dir)\n",
    "\n",
    "    # Copy all files with a .txt extension from the source directory to the destination directory\n",
    "    for filename in os.listdir(source_dir):\n",
    "        if filename.endswith('.txt'):\n",
    "            shutil.copy(os.path.join(source_dir, filename), os.path.join(dest_dir, filename))\n",
    "\n",
    "    print(f\"All .txt files have been copied from {source_dir} to {dest_dir}.\")"
   ]
  }
 ],
 "metadata": {
  "kernelspec": {
   "display_name": "Python 3",
   "language": "python",
   "name": "python3"
  },
  "language_info": {
   "codemirror_mode": {
    "name": "ipython",
    "version": 3
   },
   "file_extension": ".py",
   "mimetype": "text/x-python",
   "name": "python",
   "nbconvert_exporter": "python",
   "pygments_lexer": "ipython3",
   "version": "3.10.9"
  },
  "orig_nbformat": 4,
  "vscode": {
   "interpreter": {
    "hash": "fbc768028c3e6ead51d9a200ddcb2ec858ae62844dcd1994729a8279be9b48f2"
   }
  }
 },
 "nbformat": 4,
 "nbformat_minor": 2
}
