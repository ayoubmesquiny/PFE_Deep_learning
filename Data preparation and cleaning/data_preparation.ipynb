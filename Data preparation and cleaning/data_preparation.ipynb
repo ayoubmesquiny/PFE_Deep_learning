{
 "cells": [
  {
   "cell_type": "code",
   "execution_count": 1,
   "metadata": {},
   "outputs": [],
   "source": [
    "import os\n",
    "import shutil\n",
    "from concurrent.futures import ThreadPoolExecutor\n",
    "from sklearn.model_selection import train_test_split"
   ]
  },
  {
   "attachments": {},
   "cell_type": "markdown",
   "metadata": {},
   "source": [
    "## Spliting the data folder into : Train and Test "
   ]
  },
  {
   "cell_type": "code",
   "execution_count": 2,
   "metadata": {},
   "outputs": [],
   "source": [
    "def split_data(data_dir, train_size=0.7):\n",
    "\n",
    "    # Get the list of all pass image file names\n",
    "    pass_dir = os.path.join(data_dir, \"pass\")\n",
    "    pass_images = [os.path.join(pass_dir, file) for file in os.listdir(pass_dir)]\n",
    "\n",
    "    # Get the list of all fail image file names\n",
    "    fail_dir = os.path.join(data_dir, \"fail\")\n",
    "    fail_images = [os.path.join(fail_dir, file) for file in os.listdir(fail_dir)]\n",
    "\n",
    "    # Split the data into train and test sets\n",
    "    pass_train, pass_test = train_test_split(pass_images, train_size=train_size, random_state=42)\n",
    "    fail_train, fail_test = train_test_split(fail_images, train_size=train_size, random_state=42)\n",
    "\n",
    "    # Create the train and test directories\n",
    "    train_dir = os.path.join(data_dir, \"train\")\n",
    "    test_dir = os.path.join(data_dir, \"test\")\n",
    "    os.makedirs(os.path.join(train_dir, \"pass\"), exist_ok=True)\n",
    "    os.makedirs(os.path.join(train_dir, \"fail\"), exist_ok=True)\n",
    "    os.makedirs(os.path.join(test_dir, \"pass\"), exist_ok=True)\n",
    "    os.makedirs(os.path.join(test_dir, \"fail\"), exist_ok=True)\n",
    "\n",
    "    # Define a function to copy images to a directory\n",
    "    def copy_images(images, dest_dir):\n",
    "        for file in images:\n",
    "            dest_file = os.path.join(dest_dir, os.path.basename(file))\n",
    "            if not os.path.exists(dest_file):\n",
    "                shutil.copy(file, dest_file)\n",
    "\n",
    "    # Copy the pass images to the train and test directories using multiple threads\n",
    "    with ThreadPoolExecutor() as executor:\n",
    "        executor.submit(copy_images, pass_train, os.path.join(train_dir, \"pass\"))\n",
    "        executor.submit(copy_images, pass_test, os.path.join(test_dir, \"pass\"))\n",
    "\n",
    "    # Copy the fail images to the train and test directories using multiple threads\n",
    "    with ThreadPoolExecutor() as executor:\n",
    "        executor.submit(copy_images, fail_train, os.path.join(train_dir, \"fail\"))\n",
    "        executor.submit(copy_images, fail_test, os.path.join(test_dir, \"fail\"))\n"
   ]
  },
  {
   "cell_type": "code",
   "execution_count": 3,
   "metadata": {},
   "outputs": [],
   "source": [
    "split_data(\"D:/fuse_box_dataset_organized/D-E\")"
   ]
  },
  {
   "cell_type": "code",
   "execution_count": null,
   "metadata": {},
   "outputs": [],
   "source": []
  }
 ],
 "metadata": {
  "kernelspec": {
   "display_name": "Python 3",
   "language": "python",
   "name": "python3"
  },
  "language_info": {
   "codemirror_mode": {
    "name": "ipython",
    "version": 3
   },
   "file_extension": ".py",
   "mimetype": "text/x-python",
   "name": "python",
   "nbconvert_exporter": "python",
   "pygments_lexer": "ipython3",
   "version": "3.10.9"
  },
  "orig_nbformat": 4
 },
 "nbformat": 4,
 "nbformat_minor": 2
}
