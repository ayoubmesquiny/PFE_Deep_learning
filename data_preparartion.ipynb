{
 "cells": [
  {
   "attachments": {},
   "cell_type": "markdown",
   "metadata": {},
   "source": [
    "## Importing libraries necessary"
   ]
  },
  {
   "cell_type": "code",
   "execution_count": 1,
   "metadata": {},
   "outputs": [],
   "source": [
    "import os\n",
    "from concurrent.futures import ThreadPoolExecutor\n",
    "import humanize\n",
    "from multiprocessing import Pool\n",
    "from PIL import Image\n",
    "import concurrent.futures\n",
    "import shutil"
   ]
  },
  {
   "cell_type": "code",
   "execution_count": 2,
   "metadata": {},
   "outputs": [],
   "source": [
    "Data_directory_1 = \"D:/L460\"\n",
    "Data_directory_2 = \"D:/L461\"\n",
    "Data_directory_3 = \"D:/dataset\""
   ]
  },
  {
   "cell_type": "code",
   "execution_count": 3,
   "metadata": {},
   "outputs": [],
   "source": [
    "def delete_file(file):\n",
    "    try:\n",
    "        os.remove(file)\n",
    "    except Exception as e:\n",
    "        print(f\"Error deleting file {file}: {e}\")"
   ]
  },
  {
   "attachments": {},
   "cell_type": "markdown",
   "metadata": {},
   "source": [
    "## Deleting XML files :"
   ]
  },
  {
   "cell_type": "code",
   "execution_count": null,
   "metadata": {},
   "outputs": [],
   "source": [
    "def delete_xml_files(directory, max_threads=10):\n",
    "    # Recursively search for all .xml files in the specified directory and its subdirectories\n",
    "    xml_files = []\n",
    "    for root, dirs, files in os.walk(directory):\n",
    "        for file in files:\n",
    "            if file.lower().endswith(\".xml\"):\n",
    "                xml_files.append(os.path.join(root, file))\n",
    "\n",
    "    # Use a thread pool to delete the files with a maximum number of threads\n",
    "    with ThreadPoolExecutor(max_workers=max_threads) as executor:\n",
    "        for file in xml_files:\n",
    "            executor.submit(delete_file, file)\n",
    "\n",
    "    print(f\"All {len(xml_files)} .xml files have been deleted from {directory} and its subdirectories.\")\n",
    "    # Recursively delete files in subdirectories\n",
    "    for root, dirs, files in os.walk(directory):\n",
    "        for dir in dirs:\n",
    "            delete_xml_files(os.path.join(root, dir), max_threads)"
   ]
  },
  {
   "attachments": {},
   "cell_type": "markdown",
   "metadata": {},
   "source": [
    "## Deleting unwanted images :"
   ]
  },
  {
   "cell_type": "code",
   "execution_count": null,
   "metadata": {},
   "outputs": [],
   "source": [
    "def delete_unwanted_images(directory, max_threads=10):\n",
    "    # Recursively search for all non-xml files in the specified directory and its subdirectories\n",
    "    view_files = []\n",
    "    stats_files = []\n",
    "    for root, dirs, files in os.walk(directory):\n",
    "        for file in files:\n",
    "            if \"VIEW-1_DIFFUSE.JPG\" in file:\n",
    "                view_files.append(os.path.join(root, file))\n",
    "            elif \"STATS.JPG\" in file:\n",
    "                stats_files.append(os.path.join(root, file))\n",
    "\n",
    "    # Use a thread pool to delete the files with a maximum number of threads\n",
    "    with ThreadPoolExecutor(max_workers=max_threads) as executor:\n",
    "        for file in view_files:\n",
    "            executor.submit(delete_file, file)\n",
    "        for file in stats_files:\n",
    "            executor.submit(delete_file,file)\n",
    "\n",
    "    print(f\"All {len(view_files)} files containing 'VIEW-1_DIFFUSE.JPG' and {len(stats_files)} files containing 'STATS.JPG' in their name have been deleted from {directory} and its subdirectories.\")\n",
    "    \n",
    "    # Recursively delete files in subdirectories\n",
    "    for root, dirs, files in os.walk(directory):\n",
    "        for dir in dirs:\n",
    "            delete_unwanted_images(os.path.join(root, dir), max_threads)"
   ]
  },
  {
   "attachments": {},
   "cell_type": "markdown",
   "metadata": {},
   "source": [
    "## Number of images :"
   ]
  },
  {
   "cell_type": "code",
   "execution_count": 4,
   "metadata": {},
   "outputs": [],
   "source": [
    "def get_file_paths(directory):\n",
    "    for root, dirs, files in os.walk(directory):\n",
    "        for file in files:\n",
    "            if file.endswith(\".JPG\"):\n",
    "                yield os.path.join(root, file)\n",
    "\n",
    "def calculate_stats(directory):\n",
    "    images_count = 0\n",
    "    total_size = 0\n",
    "\n",
    "    # Use a generator to avoid loading all file paths into memory at once\n",
    "    file_paths = get_file_paths(directory)\n",
    "\n",
    "    # Use multiprocessing to parallelize the calculation of file sizes\n",
    "    with Pool() as pool:\n",
    "        sizes = pool.map(os.path.getsize, file_paths)\n",
    "        total_size = sum(sizes)\n",
    "        images_count = len(sizes)\n",
    "\n",
    "    # Use humanize to format the total size in a human-readable format\n",
    "    total_size_humanized = humanize.naturalsize(total_size, binary=True)\n",
    "\n",
    "    print(f\"Number of images: {images_count}\")\n",
    "    print(f\"Total size of directory {directory}: {total_size_humanized}\")"
   ]
  },
  {
   "attachments": {},
   "cell_type": "markdown",
   "metadata": {},
   "source": [
    "## Cheking if the size of the images and their count:"
   ]
  },
  {
   "cell_type": "code",
   "execution_count": 5,
   "metadata": {},
   "outputs": [],
   "source": [
    "def count_images_by_size(directory):\n",
    "    sizes = {}\n",
    "    image_paths = []\n",
    "\n",
    "    for root, dirs, files in os.walk(directory):\n",
    "        for file in files:\n",
    "            if file.lower().endswith(\".jpg\"):\n",
    "                image_paths.append(os.path.join(root, file))\n",
    "\n",
    "    def get_image_size(path):\n",
    "        with Image.open(path) as img:\n",
    "            return img.size\n",
    "\n",
    "    with ThreadPoolExecutor() as executor:\n",
    "        future_to_path = {executor.submit(get_image_size, path): path for path in image_paths}\n",
    "        for future in concurrent.futures.as_completed(future_to_path):\n",
    "            path = future_to_path[future]\n",
    "            try:\n",
    "                size = future.result()\n",
    "                if size not in sizes:\n",
    "                    sizes[size] = 0\n",
    "                sizes[size] += 1\n",
    "            except Exception as e:\n",
    "                print(f\"Error getting size for image {path}: {e}\")\n",
    "\n",
    "    for size, count in sizes.items():\n",
    "        print(f\"{count} images in {directory} have size {size}\")"
   ]
  },
  {
   "cell_type": "code",
   "execution_count": null,
   "metadata": {},
   "outputs": [],
   "source": [
    "\"\"\"def copy_file(src, dst):\n",
    "    # Open source file in read mode using PyArrow\n",
    "    with pa.memory_map(src, mode=\"r\") as mmap:\n",
    "        # Create or open the destination file in write mode using shutil\n",
    "        with open(dst, mode=\"wb\") as out_file:\n",
    "            # Write the content of source file to destination file using shutil\n",
    "            out_file.write(mmap.read_all())\n",
    "\n",
    "\n",
    "def copy_files(directory, destination):\n",
    "    pass_folders = []\n",
    "    fail_folders = []\n",
    "\n",
    "    for root, dirs, files in os.walk(directory):\n",
    "        for dir in dirs:\n",
    "            if dir.lower() == \"pass\":\n",
    "                pass_folders.append(os.path.join(root, dir))\n",
    "            elif dir.lower() == \"fail\":\n",
    "                fail_folders.append(os.path.join(root, dir))\n",
    "\n",
    "    if not os.path.exists(destination):\n",
    "        os.makedirs(destination)\n",
    "\n",
    "    pass_destination = os.path.join(destination, \"pass\")\n",
    "    if not os.path.exists(pass_destination):\n",
    "        os.makedirs(pass_destination)\n",
    "\n",
    "    fail_destination = os.path.join(destination, \"fail\")\n",
    "    if not os.path.exists(fail_destination):\n",
    "        os.makedirs(fail_destination)\n",
    "\n",
    "    with concurrent.futures.ThreadPoolExecutor() as executor:\n",
    "        # Copy pass files\n",
    "        pass_futures = []\n",
    "        for folder in pass_folders:\n",
    "            for file in os.listdir(folder):\n",
    "                src = os.path.join(folder, file)\n",
    "                dst = os.path.join(pass_destination, file)\n",
    "                pass_futures.append(executor.submit(copy_file, src, dst))\n",
    "\n",
    "        for future in concurrent.futures.as_completed(pass_futures):\n",
    "            future.result()\n",
    "\n",
    "        # Copy fail files\n",
    "        fail_futures = []\n",
    "        for folder in fail_folders:\n",
    "            for file in os.listdir(folder):\n",
    "                src = os.path.join(folder, file)\n",
    "                dst = os.path.join(fail_destination, file)\n",
    "                fail_futures.append(executor.submit(copy_file, src, dst))\n",
    "\n",
    "        for future in concurrent.futures.as_completed(fail_futures):\n",
    "            future.result()\n",
    "\n",
    "    print(f\"Copied {len(os.listdir(pass_destination))} pass files from {directory} to {pass_destination}\")\n",
    "    print(f\"Copied {len(os.listdir(fail_destination))} fail files from {directory} to {fail_destination}\")\"\"\""
   ]
  },
  {
   "attachments": {},
   "cell_type": "markdown",
   "metadata": {},
   "source": [
    "## Applying preparation :"
   ]
  },
  {
   "cell_type": "code",
   "execution_count": 6,
   "metadata": {},
   "outputs": [
    {
     "name": "stdout",
     "output_type": "stream",
     "text": [
      "Number of images: 101779\n",
      "Total size of directory D:/L460: 27.7 GiB\n"
     ]
    }
   ],
   "source": [
    "calculate_stats(Data_directory_1)"
   ]
  },
  {
   "cell_type": "code",
   "execution_count": 7,
   "metadata": {},
   "outputs": [
    {
     "name": "stdout",
     "output_type": "stream",
     "text": [
      "Number of images: 63662\n",
      "Total size of directory D:/L461: 21.7 GiB\n"
     ]
    }
   ],
   "source": [
    "calculate_stats(Data_directory_2)"
   ]
  },
  {
   "cell_type": "code",
   "execution_count": 8,
   "metadata": {},
   "outputs": [
    {
     "name": "stdout",
     "output_type": "stream",
     "text": [
      "85370 images in D:/L460 have size (1280, 720)\n",
      "16409 images in D:/L460 have size (3000, 1500)\n"
     ]
    }
   ],
   "source": [
    "count_images_by_size(Data_directory_1)"
   ]
  },
  {
   "cell_type": "code",
   "execution_count": null,
   "metadata": {},
   "outputs": [],
   "source": [
    "count_images_by_size(Data_directory_2)"
   ]
  },
  {
   "cell_type": "code",
   "execution_count": null,
   "metadata": {},
   "outputs": [],
   "source": [
    "delete_xml_files(Data_directory_1,max_threads=5)"
   ]
  },
  {
   "cell_type": "code",
   "execution_count": null,
   "metadata": {},
   "outputs": [],
   "source": [
    "delete_xml_files(Data_directory_2,max_threads=5)"
   ]
  },
  {
   "cell_type": "code",
   "execution_count": null,
   "metadata": {},
   "outputs": [],
   "source": [
    "delete_unwanted_images(Data_directory_1,max_threads=5)"
   ]
  },
  {
   "cell_type": "code",
   "execution_count": null,
   "metadata": {},
   "outputs": [],
   "source": [
    "delete_unwanted_images(Data_directory_2,max_threads=5)"
   ]
  },
  {
   "cell_type": "code",
   "execution_count": 2,
   "metadata": {},
   "outputs": [],
   "source": [
    "def copy_files(src_dir, dst_dir):\n",
    "    # create destination directory if it doesn't exist\n",
    "    os.makedirs(dst_dir, exist_ok=True)\n",
    "    \n",
    "    # get a list of files to copy\n",
    "    file_list = []\n",
    "    for root, dirs, files in os.walk(src_dir):\n",
    "        for file in files:\n",
    "            file_list.append(os.path.join(root, file))\n",
    "    \n",
    "    # define a function to copy a single file\n",
    "    def copy_file(file_path):\n",
    "        try:\n",
    "            shutil.copy(file_path, dst_dir)\n",
    "        except Exception as e:\n",
    "            print(f\"Error copying {file_path}: {e}\")\n",
    "    \n",
    "    # use ThreadPoolExecutor to copy files in parallel\n",
    "    with ThreadPoolExecutor() as executor:\n",
    "        futures = []\n",
    "        for file_path in file_list:\n",
    "            futures.append(executor.submit(copy_file, file_path))\n",
    "        \n",
    "        # wait for all the copies to finish\n",
    "        for future in futures:\n",
    "            future.result()\n",
    "    \n",
    "    print(f\"Finished copying files from {src_dir} to {dst_dir}\")\n"
   ]
  },
  {
   "cell_type": "code",
   "execution_count": 54,
   "metadata": {},
   "outputs": [
    {
     "name": "stdout",
     "output_type": "stream",
     "text": [
      "Finished copying files from D:/L461/Line3_L461/D-E/ProcRes/2022_41/Pass to D:/fuse_box_dataset/D-E/pass\n",
      "Finished copying files from D:/L461/Line3_L461/D-E/ProcRes/2022_42/Pass to D:/fuse_box_dataset/D-E/pass\n",
      "Finished copying files from D:/L461/Line3_L461/D-E/ProcRes/2022_43/Pass to D:/fuse_box_dataset/D-E/pass\n",
      "Finished copying files from D:/L461/Line3_L461/D-E/ProcRes/2022_44/Pass to D:/fuse_box_dataset/D-E/pass\n",
      "Finished copying files from D:/L461/Line3_L461/D-E/ProcRes/2022_45/Pass to D:/fuse_box_dataset/D-E/pass\n",
      "Finished copying files from D:/L461/Line3_L461/D-E/ProcRes/2022_46/Pass to D:/fuse_box_dataset/D-E/pass\n",
      "Finished copying files from D:/L461/Line3_L461/D-E/ProcRes/2022_47/Pass to D:/fuse_box_dataset/D-E/pass\n",
      "Finished copying files from D:/L461/Line3_L461/D-E/ProcRes/2022_48/Pass to D:/fuse_box_dataset/D-E/pass\n",
      "Finished copying files from D:/L461/Line3_L461/D-E/ProcRes/2022_49/Pass to D:/fuse_box_dataset/D-E/pass\n",
      "Finished copying files from D:/L461/Line3_L461/D-E/ProcRes/2022_50/Pass to D:/fuse_box_dataset/D-E/pass\n",
      "Finished copying files from D:/L461/Line3_L461/D-E/ProcRes/2022_51/Pass to D:/fuse_box_dataset/D-E/pass\n",
      "Finished copying files from D:/L461/Line3_L461/D-E/ProcRes/2022_52/Pass to D:/fuse_box_dataset/D-E/pass\n"
     ]
    }
   ],
   "source": [
    "for week in range(41, 53):\n",
    "    source_path = f\"D:/L461/Line3_L461/D-E/ProcRes/2022_{week:02}/Pass\"\n",
    "    dest_path = f\"D:/fuse_box_dataset/D-E/pass\"\n",
    "    copy_files(source_path, dest_path)"
   ]
  },
  {
   "cell_type": "code",
   "execution_count": 55,
   "metadata": {},
   "outputs": [
    {
     "name": "stdout",
     "output_type": "stream",
     "text": [
      "Finished copying files from D:/L461/Line3_L461/D-E/ProcRes/2022_41/Fail to D:/fuse_box_dataset/D-E/fail\n",
      "Finished copying files from D:/L461/Line3_L461/D-E/ProcRes/2022_42/Fail to D:/fuse_box_dataset/D-E/fail\n",
      "Finished copying files from D:/L461/Line3_L461/D-E/ProcRes/2022_43/Fail to D:/fuse_box_dataset/D-E/fail\n",
      "Finished copying files from D:/L461/Line3_L461/D-E/ProcRes/2022_44/Fail to D:/fuse_box_dataset/D-E/fail\n",
      "Finished copying files from D:/L461/Line3_L461/D-E/ProcRes/2022_45/Fail to D:/fuse_box_dataset/D-E/fail\n",
      "Finished copying files from D:/L461/Line3_L461/D-E/ProcRes/2022_46/Fail to D:/fuse_box_dataset/D-E/fail\n",
      "Finished copying files from D:/L461/Line3_L461/D-E/ProcRes/2022_47/Fail to D:/fuse_box_dataset/D-E/fail\n",
      "Finished copying files from D:/L461/Line3_L461/D-E/ProcRes/2022_48/Fail to D:/fuse_box_dataset/D-E/fail\n",
      "Finished copying files from D:/L461/Line3_L461/D-E/ProcRes/2022_49/Fail to D:/fuse_box_dataset/D-E/fail\n",
      "Finished copying files from D:/L461/Line3_L461/D-E/ProcRes/2022_50/Fail to D:/fuse_box_dataset/D-E/fail\n",
      "Finished copying files from D:/L461/Line3_L461/D-E/ProcRes/2022_51/Fail to D:/fuse_box_dataset/D-E/fail\n",
      "Finished copying files from D:/L461/Line3_L461/D-E/ProcRes/2022_52/Fail to D:/fuse_box_dataset/D-E/fail\n"
     ]
    }
   ],
   "source": [
    "for week in range(41, 53):\n",
    "    source_path = f\"D:/L461/Line3_L461/D-E/ProcRes/2022_{week:02}/Fail\"\n",
    "    dest_path = f\"D:/fuse_box_dataset/D-E/fail\"\n",
    "    copy_files(source_path, dest_path)"
   ]
  },
  {
   "cell_type": "code",
   "execution_count": 56,
   "metadata": {},
   "outputs": [
    {
     "name": "stdout",
     "output_type": "stream",
     "text": [
      "Finished copying files from D:/L461/Line3_L461/D-E/ProcRes/2023_01/Fail to D:/fuse_box_dataset/D-E/fail\n"
     ]
    }
   ],
   "source": [
    "copy_files(\"D:/L461/Line3_L461/D-E/ProcRes/2023_01/Fail\",\"D:/fuse_box_dataset/D-E/fail\")"
   ]
  },
  {
   "cell_type": "code",
   "execution_count": 57,
   "metadata": {},
   "outputs": [
    {
     "name": "stdout",
     "output_type": "stream",
     "text": [
      "Finished copying files from D:/L461/Line3_L461/D-E/ProcRes/2023_01/Pass to D:/fuse_box_dataset/D-E/pass\n"
     ]
    }
   ],
   "source": [
    "copy_files(\"D:/L461/Line3_L461/D-E/ProcRes/2023_01/Pass\",\"D:/fuse_box_dataset/D-E/pass\")"
   ]
  }
 ],
 "metadata": {
  "kernelspec": {
   "display_name": "Python 3",
   "language": "python",
   "name": "python3"
  },
  "language_info": {
   "codemirror_mode": {
    "name": "ipython",
    "version": 3
   },
   "file_extension": ".py",
   "mimetype": "text/x-python",
   "name": "python",
   "nbconvert_exporter": "python",
   "pygments_lexer": "ipython3",
   "version": "3.10.9"
  },
  "orig_nbformat": 4,
  "vscode": {
   "interpreter": {
    "hash": "fbc768028c3e6ead51d9a200ddcb2ec858ae62844dcd1994729a8279be9b48f2"
   }
  }
 },
 "nbformat": 4,
 "nbformat_minor": 2
}
