{
 "cells": [
  {
   "cell_type": "code",
   "execution_count": 17,
   "metadata": {},
   "outputs": [],
   "source": [
    "import os\n",
    "from concurrent.futures import ThreadPoolExecutor\n",
    "import humanize\n",
    "from multiprocessing import Pool\n",
    "from PIL import Image\n",
    "import concurrent.futures"
   ]
  },
  {
   "cell_type": "code",
   "execution_count": null,
   "metadata": {},
   "outputs": [],
   "source": [
    "directory = \"D:/dataset_2\""
   ]
  },
  {
   "cell_type": "code",
   "execution_count": 18,
   "metadata": {},
   "outputs": [],
   "source": [
    "def delete_file(file):\n",
    "    try:\n",
    "        os.remove(file)\n",
    "    except Exception as e:\n",
    "        print(f\"Error deleting file {file}: {e}\")"
   ]
  },
  {
   "attachments": {},
   "cell_type": "markdown",
   "metadata": {},
   "source": [
    "## Deleting XML files :"
   ]
  },
  {
   "cell_type": "code",
   "execution_count": 19,
   "metadata": {},
   "outputs": [],
   "source": [
    "def delete_xml_files(directory, max_threads=10):\n",
    "    # Recursively search for all .xml files in the specified directory and its subdirectories\n",
    "    xml_files = []\n",
    "    for root, dirs, files in os.walk(directory):\n",
    "        for file in files:\n",
    "            if file.endswith(\".xml\"):\n",
    "                xml_files.append(os.path.join(root, file))\n",
    "\n",
    "    # Use a thread pool to delete the files with a maximum number of threads\n",
    "    with ThreadPoolExecutor(max_workers=max_threads) as executor:\n",
    "        for file in xml_files:\n",
    "            executor.submit(delete_file, file)\n",
    "\n",
    "    print(f\"All {len(xml_files)} .xml files have been deleted from {directory} and its subdirectories.\")\n",
    "    # Recursively delete files in subdirectories\n",
    "    for root, dirs, files in os.walk(directory):\n",
    "        for dir in dirs:\n",
    "            delete_xml_files(os.path.join(root, dir), max_threads)"
   ]
  },
  {
   "attachments": {},
   "cell_type": "markdown",
   "metadata": {},
   "source": [
    "## Deleting unwanted images :"
   ]
  },
  {
   "cell_type": "code",
   "execution_count": 20,
   "metadata": {},
   "outputs": [],
   "source": [
    "def delete_unwanted_images(directory, max_threads=10):\n",
    "    # Recursively search for all non-xml files in the specified directory and its subdirectories\n",
    "    view_files = []\n",
    "    stats_files = []\n",
    "    for root, dirs, files in os.walk(directory):\n",
    "        for file in files:\n",
    "            if \"VIEW-1_DIFFUSE.JPG\" in file:\n",
    "                view_files.append(os.path.join(root, file))\n",
    "            elif \"STATS.JPG\" in file:\n",
    "                stats_files.append(os.path.join(root, file))\n",
    "\n",
    "    # Use a thread pool to delete the files with a maximum number of threads\n",
    "    with ThreadPoolExecutor(max_workers=max_threads) as executor:\n",
    "        for file in view_files:\n",
    "            executor.submit(delete_file, file)\n",
    "        for file in stats_files:\n",
    "            executor.submit(delete_file,file)\n",
    "\n",
    "    print(f\"All {len(view_files)} files containing 'VIEW-1_DIFFUSE.JPG' and {len(stats_files)} files containing 'STATS.JPG' in their name have been deleted from {directory} and its subdirectories.\")\n",
    "    \n",
    "    # Recursively delete files in subdirectories\n",
    "    for root, dirs, files in os.walk(directory):\n",
    "        for dir in dirs:\n",
    "            delete_unwanted_images(os.path.join(root, dir), max_threads)"
   ]
  },
  {
   "attachments": {},
   "cell_type": "markdown",
   "metadata": {},
   "source": [
    "## Number of images :"
   ]
  },
  {
   "cell_type": "code",
   "execution_count": 21,
   "metadata": {},
   "outputs": [],
   "source": [
    "def get_file_paths(directory):\n",
    "    for root, dirs, files in os.walk(directory):\n",
    "        for file in files:\n",
    "            if file.endswith(\".JPG\"):\n",
    "                yield os.path.join(root, file)\n",
    "\n",
    "def calculate_stats(directory):\n",
    "    images_count = 0\n",
    "    total_size = 0\n",
    "\n",
    "    # Use a generator to avoid loading all file paths into memory at once\n",
    "    file_paths = get_file_paths(directory)\n",
    "\n",
    "    # Use multiprocessing to parallelize the calculation of file sizes\n",
    "    with Pool() as pool:\n",
    "        sizes = pool.map(os.path.getsize, file_paths)\n",
    "        total_size = sum(sizes)\n",
    "        images_count = len(sizes)\n",
    "\n",
    "    # Use humanize to format the total size in a human-readable format\n",
    "    total_size_humanized = humanize.naturalsize(total_size, binary=True)\n",
    "\n",
    "    print(f\"Number of images: {images_count}\")\n",
    "    print(f\"Total size of directory {directory}: {total_size_humanized}\")\n"
   ]
  },
  {
   "cell_type": "code",
   "execution_count": 22,
   "metadata": {},
   "outputs": [
    {
     "name": "stdout",
     "output_type": "stream",
     "text": [
      "Number of images: 29492\n",
      "Total size of directory D:/dataset_1: 5.8 GiB\n"
     ]
    }
   ],
   "source": [
    "calculate_stats(\"D:/dataset_1\")"
   ]
  },
  {
   "attachments": {},
   "cell_type": "markdown",
   "metadata": {},
   "source": [
    "## Cheking if the size of the images is the same :"
   ]
  },
  {
   "cell_type": "code",
   "execution_count": 25,
   "metadata": {},
   "outputs": [],
   "source": [
    "def check_images_size(directory):\n",
    "    sizes = {}\n",
    "    image_paths = []\n",
    "\n",
    "    for root, dirs, files in os.walk(directory):\n",
    "        for file in files:\n",
    "            if file.lower().endswith(\".jpg\"):\n",
    "                image_paths.append(os.path.join(root, file))\n",
    "\n",
    "    def get_image_size(path):\n",
    "        with Image.open(path) as img:\n",
    "            return img.size\n",
    "\n",
    "    with ThreadPoolExecutor() as executor:\n",
    "        future_to_path = {executor.submit(get_image_size, path): path for path in image_paths}\n",
    "        for future in concurrent.futures.as_completed(future_to_path):\n",
    "            path = future_to_path[future]\n",
    "            try:\n",
    "                size = future.result()\n",
    "                sizes[path] = size\n",
    "            except Exception as e:\n",
    "                print(f\"Error getting size for image {path}: {e}\")\n",
    "\n",
    "    # Check if all image sizes are the same\n",
    "    sizes_set = set(sizes.values())\n",
    "    if len(sizes_set) == 1:\n",
    "        print(f\"All images in {directory} have size {sizes_set.pop()}\")\n",
    "    else:\n",
    "        print(f\"Images in {directory} have different sizes: {sizes}\")\n"
   ]
  },
  {
   "cell_type": "code",
   "execution_count": 26,
   "metadata": {},
   "outputs": [
    {
     "name": "stdout",
     "output_type": "stream",
     "text": [
      "All images in D:/dataset_1 have size (1280, 720)\n"
     ]
    }
   ],
   "source": [
    "check_images_size(directory)"
   ]
  },
  {
   "cell_type": "code",
   "execution_count": null,
   "metadata": {},
   "outputs": [],
   "source": []
  }
 ],
 "metadata": {
  "kernelspec": {
   "display_name": "Python 3",
   "language": "python",
   "name": "python3"
  },
  "language_info": {
   "codemirror_mode": {
    "name": "ipython",
    "version": 3
   },
   "file_extension": ".py",
   "mimetype": "text/x-python",
   "name": "python",
   "nbconvert_exporter": "python",
   "pygments_lexer": "ipython3",
   "version": "3.10.9"
  },
  "orig_nbformat": 4,
  "vscode": {
   "interpreter": {
    "hash": "fbc768028c3e6ead51d9a200ddcb2ec858ae62844dcd1994729a8279be9b48f2"
   }
  }
 },
 "nbformat": 4,
 "nbformat_minor": 2
}
